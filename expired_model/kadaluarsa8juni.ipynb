{
 "cells": [
  {
   "cell_type": "code",
   "execution_count": 36,
   "metadata": {},
   "outputs": [],
   "source": [
    "import pandas as pd\n",
    "from sklearn.preprocessing import LabelEncoder\n",
    "from keras.models import Sequential\n",
    "from keras.layers import Dense\n",
    "\n",
    "\n"
   ]
  },
  {
   "cell_type": "code",
   "execution_count": 37,
   "metadata": {},
   "outputs": [],
   "source": [
    "# Step 1: Prepare the Dataset\n",
    "df = pd.read_csv('kadaluarsa2.csv', header=None, names=['item', 'expiry_days'])\n",
    "df['expiry_days'] = pd.to_numeric(df['expiry_days'], errors='coerce')\n",
    "df['expired'] = df['expiry_days'].apply(lambda x: 1 if x <= 0 else 0)\n",
    "\n",
    "# One-hot encoding\n",
    "label_encoder = LabelEncoder()\n",
    "df['expired'] = label_encoder.fit_transform(df['expired'])\n",
    "\n"
   ]
  },
  {
   "cell_type": "code",
   "execution_count": 38,
   "metadata": {},
   "outputs": [],
   "source": [
    "# Step 2: Prepare the input features (X) and target variable (y)\n",
    "X = df['expiry_days'].values.reshape(-1, 1)\n",
    "y = df['expired'].values\n",
    "\n"
   ]
  },
  {
   "cell_type": "code",
   "execution_count": 39,
   "metadata": {},
   "outputs": [],
   "source": [
    "# Step 3: Build the Model\n",
    "model = Sequential()\n",
    "model.add(Dense(10, input_dim=1, activation='relu'))\n",
    "model.add(Dense(1, activation='sigmoid'))\n",
    "\n",
    "# Compile the model\n",
    "model.compile(optimizer='adam', loss='binary_crossentropy', metrics=['accuracy'])\n",
    "\n"
   ]
  },
  {
   "cell_type": "code",
   "execution_count": 43,
   "metadata": {},
   "outputs": [
    {
     "name": "stdout",
     "output_type": "stream",
     "text": [
      "Epoch 1/50\n",
      "4/4 [==============================] - 0s 5ms/step - loss: nan - accuracy: 1.0000\n",
      "Epoch 2/50\n",
      "4/4 [==============================] - 0s 5ms/step - loss: nan - accuracy: 1.0000\n",
      "Epoch 3/50\n",
      "4/4 [==============================] - 0s 6ms/step - loss: nan - accuracy: 1.0000\n",
      "Epoch 4/50\n",
      "4/4 [==============================] - 0s 7ms/step - loss: nan - accuracy: 1.0000\n",
      "Epoch 5/50\n",
      "4/4 [==============================] - 0s 5ms/step - loss: nan - accuracy: 1.0000\n",
      "Epoch 6/50\n",
      "4/4 [==============================] - 0s 6ms/step - loss: nan - accuracy: 1.0000\n",
      "Epoch 7/50\n",
      "4/4 [==============================] - 0s 10ms/step - loss: nan - accuracy: 1.0000\n",
      "Epoch 8/50\n",
      "4/4 [==============================] - 0s 6ms/step - loss: nan - accuracy: 1.0000\n",
      "Epoch 9/50\n",
      "4/4 [==============================] - 0s 6ms/step - loss: nan - accuracy: 1.0000\n",
      "Epoch 10/50\n",
      "4/4 [==============================] - 0s 5ms/step - loss: nan - accuracy: 1.0000\n",
      "Epoch 11/50\n",
      "4/4 [==============================] - 0s 6ms/step - loss: nan - accuracy: 1.0000\n",
      "Epoch 12/50\n",
      "4/4 [==============================] - 0s 7ms/step - loss: nan - accuracy: 1.0000\n",
      "Epoch 13/50\n",
      "4/4 [==============================] - 0s 7ms/step - loss: nan - accuracy: 1.0000\n",
      "Epoch 14/50\n",
      "4/4 [==============================] - 0s 6ms/step - loss: nan - accuracy: 1.0000\n",
      "Epoch 15/50\n",
      "4/4 [==============================] - 0s 6ms/step - loss: nan - accuracy: 1.0000\n",
      "Epoch 16/50\n",
      "4/4 [==============================] - 0s 7ms/step - loss: nan - accuracy: 1.0000\n",
      "Epoch 17/50\n",
      "4/4 [==============================] - 0s 6ms/step - loss: nan - accuracy: 1.0000\n",
      "Epoch 18/50\n",
      "4/4 [==============================] - 0s 7ms/step - loss: nan - accuracy: 1.0000\n",
      "Epoch 19/50\n",
      "4/4 [==============================] - 0s 7ms/step - loss: nan - accuracy: 1.0000\n",
      "Epoch 20/50\n",
      "4/4 [==============================] - 0s 7ms/step - loss: nan - accuracy: 1.0000\n",
      "Epoch 21/50\n",
      "4/4 [==============================] - 0s 7ms/step - loss: nan - accuracy: 1.0000\n",
      "Epoch 22/50\n",
      "4/4 [==============================] - 0s 11ms/step - loss: nan - accuracy: 1.0000\n",
      "Epoch 23/50\n",
      "4/4 [==============================] - 0s 7ms/step - loss: nan - accuracy: 1.0000\n",
      "Epoch 24/50\n",
      "4/4 [==============================] - 0s 7ms/step - loss: nan - accuracy: 1.0000\n",
      "Epoch 25/50\n",
      "4/4 [==============================] - 0s 6ms/step - loss: nan - accuracy: 1.0000\n",
      "Epoch 26/50\n",
      "4/4 [==============================] - 0s 4ms/step - loss: nan - accuracy: 1.0000\n",
      "Epoch 27/50\n",
      "4/4 [==============================] - 0s 7ms/step - loss: nan - accuracy: 1.0000\n",
      "Epoch 28/50\n",
      "4/4 [==============================] - 0s 5ms/step - loss: nan - accuracy: 1.0000\n",
      "Epoch 29/50\n",
      "4/4 [==============================] - 0s 6ms/step - loss: nan - accuracy: 1.0000\n",
      "Epoch 30/50\n",
      "4/4 [==============================] - 0s 6ms/step - loss: nan - accuracy: 1.0000\n",
      "Epoch 31/50\n",
      "4/4 [==============================] - 0s 5ms/step - loss: nan - accuracy: 1.0000\n",
      "Epoch 32/50\n",
      "4/4 [==============================] - 0s 7ms/step - loss: nan - accuracy: 1.0000\n",
      "Epoch 33/50\n",
      "4/4 [==============================] - 0s 6ms/step - loss: nan - accuracy: 1.0000\n",
      "Epoch 34/50\n",
      "4/4 [==============================] - 0s 5ms/step - loss: nan - accuracy: 1.0000\n",
      "Epoch 35/50\n",
      "4/4 [==============================] - 0s 7ms/step - loss: nan - accuracy: 1.0000\n",
      "Epoch 36/50\n",
      "4/4 [==============================] - 0s 6ms/step - loss: nan - accuracy: 1.0000\n",
      "Epoch 37/50\n",
      "4/4 [==============================] - 0s 6ms/step - loss: nan - accuracy: 1.0000\n",
      "Epoch 38/50\n",
      "4/4 [==============================] - 0s 6ms/step - loss: nan - accuracy: 1.0000\n",
      "Epoch 39/50\n",
      "4/4 [==============================] - 0s 5ms/step - loss: nan - accuracy: 1.0000\n",
      "Epoch 40/50\n",
      "4/4 [==============================] - 0s 7ms/step - loss: nan - accuracy: 1.0000\n",
      "Epoch 41/50\n",
      "4/4 [==============================] - 0s 7ms/step - loss: nan - accuracy: 1.0000\n",
      "Epoch 42/50\n",
      "4/4 [==============================] - 0s 16ms/step - loss: nan - accuracy: 1.0000\n",
      "Epoch 43/50\n",
      "4/4 [==============================] - 0s 8ms/step - loss: nan - accuracy: 1.0000\n",
      "Epoch 44/50\n",
      "4/4 [==============================] - 0s 5ms/step - loss: nan - accuracy: 1.0000\n",
      "Epoch 45/50\n",
      "4/4 [==============================] - 0s 5ms/step - loss: nan - accuracy: 1.0000\n",
      "Epoch 46/50\n",
      "4/4 [==============================] - 0s 8ms/step - loss: nan - accuracy: 1.0000\n",
      "Epoch 47/50\n",
      "4/4 [==============================] - 0s 5ms/step - loss: nan - accuracy: 1.0000\n",
      "Epoch 48/50\n",
      "4/4 [==============================] - 0s 7ms/step - loss: nan - accuracy: 1.0000\n",
      "Epoch 49/50\n",
      "4/4 [==============================] - 0s 4ms/step - loss: nan - accuracy: 1.0000\n",
      "Epoch 50/50\n",
      "4/4 [==============================] - 0s 6ms/step - loss: nan - accuracy: 1.0000\n"
     ]
    }
   ],
   "source": [
    "# Step 4: Train the Model\n",
    "history = model.fit(X, y, epochs=50, batch_size=32, verbose=1)\n",
    "\n"
   ]
  },
  {
   "cell_type": "code",
   "execution_count": 44,
   "metadata": {},
   "outputs": [
    {
     "data": {
      "image/png": "[encoded data removed]",
      "text/plain": [
       "<Figure size 1200x400 with 2 Axes>"
      ]
     },
     "metadata": {},
     "output_type": "display_data"
    }
   ],
   "source": [
    "# Step 5: Plot Loss and Accuracy\n",
    "import matplotlib.pyplot as plt\n",
    "\n",
    "plt.figure(figsize=(12, 4))\n",
    "\n",
    "# Plot Loss\n",
    "plt.subplot(1, 2, 1)\n",
    "plt.plot(history.history['loss'])\n",
    "plt.title('Model Loss')\n",
    "plt.xlabel('Epochs')\n",
    "plt.ylabel('Loss')\n",
    "\n",
    "# Plot Accuracy\n",
    "plt.subplot(1, 2, 2)\n",
    "plt.plot(history.history['accuracy'])\n",
    "plt.title('Model Accuracy')\n",
    "plt.xlabel('Epochs')\n",
    "plt.ylabel('Accuracy')\n",
    "\n",
    "plt.tight_layout()\n",
    "plt.show()\n",
    "\n"
   ]
  },
  {
   "cell_type": "code",
   "execution_count": 47,
   "metadata": {},
   "outputs": [
    {
     "name": "stdout",
     "output_type": "stream",
     "text": [
      "Item 'Apples' is not expired (will expire on: 06-13-2023).\n"
     ]
    }
   ],
   "source": [
    "# Step 6: Perform Prediction\n",
    "item = 'Apples' #input(\"Enter the fresh food item: \")\n",
    "purchase_date = '06-08-2023' #input(\"Enter the purchase date (mm-dd-yyyy): \")\n",
    "\n",
    "item_data = df[df['item'] == item]\n",
    "if item_data.empty:\n",
    "    print(f\"Item '{item}' is not found in the dataset.\")\n",
    "else:\n",
    "    expiry_days = item_data['expiry_days'].values[0]\n",
    "    expiry_date = pd.to_datetime(purchase_date) + pd.DateOffset(days=expiry_days)\n",
    "\n",
    "    days_since_purchase = (pd.to_datetime('today') - pd.to_datetime(purchase_date)).days\n",
    "\n",
    "    if days_since_purchase <= expiry_days:\n",
    "        print(f\"Item '{item}' is not expired (will expire on: {expiry_date.strftime('%m-%d-%Y')}).\")\n",
    "    else:\n",
    "        print(f\"Item '{item}' has expired (expired on: {expiry_date.strftime('%m-%d-%Y')}).\")"
   ]
  }
 ],
 "metadata": {
  "kernelspec": {
   "display_name": "Python 3",
   "language": "python",
   "name": "python3"
  },
  "language_info": {
   "codemirror_mode": {
    "name": "ipython",
    "version": 3
   },
   "file_extension": ".py",
   "mimetype": "text/x-python",
   "name": "python",
   "nbconvert_exporter": "python",
   "pygments_lexer": "ipython3",
   "version": "3.10.5"
  },
  "orig_nbformat": 4
 },
 "nbformat": 4,
 "nbformat_minor": 2
}
