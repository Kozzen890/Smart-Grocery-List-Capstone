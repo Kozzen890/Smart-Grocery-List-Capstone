{
 "cells": [
  {
   "cell_type": "code",
   "execution_count": 57,
   "metadata": {},
   "outputs": [],
   "source": [
    "import numpy as np\n",
    "import tensorflow as tf\n",
    "import pandas as pd\n",
    "import matplotlib.pyplot as plt\n",
    "import datetime"
   ]
  },
  {
   "cell_type": "code",
   "execution_count": 58,
   "metadata": {},
   "outputs": [
    {
     "name": "stdout",
     "output_type": "stream",
     "text": [
      "       food  exp_date\n",
      "0    Apples         5\n",
      "1   Bananas         3\n",
      "2   Berries         1\n",
      "3  Broccoli         3\n",
      "4   Carrots         7\n",
      "Index(['food', 'exp_date'], dtype='object')\n"
     ]
    }
   ],
   "source": [
    "# Membaca dataset dari file CSV\n",
    "dataset = pd.read_csv('kadaluarsa2.csv')\n",
    "\n",
    "# Mengonversi data menjadi vektor fitur dan label\n",
    "items, expiry = dataset['food'], dataset['exp_date']\n",
    "expiry = np.array(expiry)\n",
    "\n",
    "# Membuat objek Tokenizer dan mempelajari tokenisasi dari data\n",
    "tokenizer = tf.keras.preprocessing.text.Tokenizer()\n",
    "tokenizer.fit_on_texts(items)\n",
    "\n",
    "print(dataset.head())\n",
    "print(dataset.columns)"
   ]
  },
  {
   "cell_type": "code",
   "execution_count": 59,
   "metadata": {},
   "outputs": [],
   "source": [
    "# Mengonversi teks menjadi urutan angka berdasarkan token yang telah dipelajari\n",
    "items = tokenizer.texts_to_sequences(items)\n",
    "\n",
    "# Mengambil daftar kata yang ada dalam tokenizer\n",
    "word_index = tokenizer.word_index\n",
    "\n",
    "# Mengonversi urutan angka menjadi vektor one-hot encoding\n",
    "items = tf.keras.preprocessing.sequence.pad_sequences(items)"
   ]
  },
  {
   "cell_type": "code",
   "execution_count": 60,
   "metadata": {},
   "outputs": [],
   "source": [
    "# Normalisasi data\n",
    "expiry = expiry / np.max(dataset['exp_date'])"
   ]
  },
  {
   "cell_type": "code",
   "execution_count": 61,
   "metadata": {},
   "outputs": [],
   "source": [
    "# Split data menjadi data latih dan data uji\n",
    "train_size = int(0.8 * len(dataset))\n",
    "train_items, test_items = items[:train_size], items[train_size:]\n",
    "train_expiry, test_expiry = expiry[:train_size], expiry[train_size:]"
   ]
  },
  {
   "cell_type": "code",
   "execution_count": 62,
   "metadata": {},
   "outputs": [
    {
     "name": "stdout",
     "output_type": "stream",
     "text": [
      "Model: \"sequential_3\"\n",
      "_________________________________________________________________\n",
      " Layer (type)                Output Shape              Param #   \n",
      "=================================================================\n",
      " embedding_3 (Embedding)     (None, 2, 16)             448       \n",
      "                                                                 \n",
      " global_average_pooling1d_3   (None, 16)               0         \n",
      " (GlobalAveragePooling1D)                                        \n",
      "                                                                 \n",
      " dense_6 (Dense)             (None, 16)                272       \n",
      "                                                                 \n",
      " dense_7 (Dense)             (None, 1)                 17        \n",
      "                                                                 \n",
      "=================================================================\n",
      "Total params: 737\n",
      "Trainable params: 737\n",
      "Non-trainable params: 0\n",
      "_________________________________________________________________\n"
     ]
    }
   ],
   "source": [
    "# Definisikan model menggunakan TensorFlow\n",
    "model = tf.keras.Sequential([\n",
    "    tf.keras.layers.Embedding(len(word_index) + 1, 16, input_length=items.shape[1]),\n",
    "    tf.keras.layers.GlobalAveragePooling1D(),\n",
    "    tf.keras.layers.Dense(16, activation='relu'),\n",
    "    tf.keras.layers.Dense(1, activation='sigmoid')\n",
    "])\n",
    "\n",
    "model.compile(optimizer='adam', loss='binary_crossentropy', metrics=['accuracy'])\n",
    "model.summary()"
   ]
  },
  {
   "cell_type": "code",
   "execution_count": 63,
   "metadata": {},
   "outputs": [
    {
     "name": "stdout",
     "output_type": "stream",
     "text": [
      "Epoch 1/10\n",
      "2/2 [==============================] - 3s 398ms/step - loss: 0.6926 - accuracy: 0.0500 - val_loss: 0.6913 - val_accuracy: 0.0000e+00\n",
      "Epoch 2/10\n",
      "2/2 [==============================] - 0s 88ms/step - loss: 0.6895 - accuracy: 0.0500 - val_loss: 0.6896 - val_accuracy: 0.0000e+00\n",
      "Epoch 3/10\n",
      "2/2 [==============================] - 0s 80ms/step - loss: 0.6863 - accuracy: 0.0000e+00 - val_loss: 0.6881 - val_accuracy: 0.0000e+00\n",
      "Epoch 4/10\n",
      "2/2 [==============================] - 0s 71ms/step - loss: 0.6832 - accuracy: 0.0000e+00 - val_loss: 0.6864 - val_accuracy: 0.0000e+00\n",
      "Epoch 5/10\n",
      "2/2 [==============================] - 0s 65ms/step - loss: 0.6801 - accuracy: 0.0000e+00 - val_loss: 0.6847 - val_accuracy: 0.0000e+00\n",
      "Epoch 6/10\n",
      "2/2 [==============================] - 0s 75ms/step - loss: 0.6767 - accuracy: 0.0000e+00 - val_loss: 0.6829 - val_accuracy: 0.0000e+00\n",
      "Epoch 7/10\n",
      "2/2 [==============================] - 0s 125ms/step - loss: 0.6734 - accuracy: 0.0000e+00 - val_loss: 0.6809 - val_accuracy: 0.0000e+00\n",
      "Epoch 8/10\n",
      "2/2 [==============================] - 0s 130ms/step - loss: 0.6703 - accuracy: 0.0000e+00 - val_loss: 0.6788 - val_accuracy: 0.0000e+00\n",
      "Epoch 9/10\n",
      "2/2 [==============================] - 0s 142ms/step - loss: 0.6667 - accuracy: 0.0000e+00 - val_loss: 0.6766 - val_accuracy: 0.0000e+00\n",
      "Epoch 10/10\n",
      "2/2 [==============================] - 0s 176ms/step - loss: 0.6633 - accuracy: 0.0000e+00 - val_loss: 0.6742 - val_accuracy: 0.0000e+00\n"
     ]
    },
    {
     "data": {
      "text/plain": [
       "<keras.callbacks.History at 0x268f7f9bee0>"
      ]
     },
     "execution_count": 63,
     "metadata": {},
     "output_type": "execute_result"
    }
   ],
   "source": [
    "# Latih model\n",
    "model.fit(train_items, train_expiry, epochs=10, batch_size=16, validation_data=(test_items, test_expiry))"
   ]
  },
  {
   "cell_type": "code",
   "execution_count": 66,
   "metadata": {},
   "outputs": [
    {
     "name": "stdout",
     "output_type": "stream",
     "text": [
      "1/1 [==============================] - 0s 65ms/step\n"
     ]
    }
   ],
   "source": [
    "# Prediksi kadaluarsa\n",
    "item_names = ['Apples', 'Bananas', 'Corn']  # Masukkan item baru\n",
    "purchase_dates = ['2023-05-28', '1945-05-28', '1945-05-29']  # Masukkan tanggal pembelian\n",
    "current_date = datetime.date.today()\n",
    "\n",
    "days_since_purchase = [(current_date - datetime.datetime.strptime(date, '%Y-%m-%d').date()).days\n",
    "                       for date in purchase_dates]\n",
    "\n",
    "input_items = tokenizer.texts_to_sequences(item_names)\n",
    "input_items = tf.keras.preprocessing.sequence.pad_sequences(input_items, maxlen=items.shape[1])\n",
    "predictions = model.predict(input_items)"
   ]
  },
  {
   "cell_type": "code",
   "execution_count": 67,
   "metadata": {},
   "outputs": [
    {
     "name": "stdout",
     "output_type": "stream",
     "text": [
      "Apples: Kadaluarsa (Kadaluarsa pada: 2101-05-30)\n",
      "Bananas: Kadaluarsa (Kadaluarsa pada: 2101-05-30)\n",
      "Corn: Kadaluarsa (Kadaluarsa pada: 2101-05-29)\n"
     ]
    }
   ],
   "source": [
    "# Cetak hasil prediksi\n",
    "for item_name, prediction, days_since_purchase in zip(item_names, predictions, days_since_purchase):\n",
    "    expiry_date = current_date + datetime.timedelta(days=days_since_purchase)\n",
    "    if days_since_purchase <= prediction[0]*np.max(dataset['exp_date']):\n",
    "        expired = 'Belum Kadaluarsa'\n",
    "    else:\n",
    "        expired = 'Kadaluarsa'\n",
    "    print(f'{item_name}: {expired} (Kadaluarsa pada: {expiry_date.strftime(\"%Y-%m-%d\")})')\n"
   ]
  },
  {
   "cell_type": "code",
   "execution_count": null,
   "metadata": {},
   "outputs": [],
   "source": []
  }
 ],
 "metadata": {
  "kernelspec": {
   "display_name": "Python 3",
   "language": "python",
   "name": "python3"
  },
  "language_info": {
   "codemirror_mode": {
    "name": "ipython",
    "version": 3
   },
   "file_extension": ".py",
   "mimetype": "text/x-python",
   "name": "python",
   "nbconvert_exporter": "python",
   "pygments_lexer": "ipython3",
   "version": "3.10.5"
  },
  "orig_nbformat": 4
 },
 "nbformat": 4,
 "nbformat_minor": 2
}
