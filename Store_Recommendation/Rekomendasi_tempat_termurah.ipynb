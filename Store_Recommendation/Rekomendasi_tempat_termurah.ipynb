{
 "cells": [
  {
   "cell_type": "code",
   "execution_count": 164,
   "metadata": {},
   "outputs": [],
   "source": [
    "import pandas as pd\n",
    "import tensorflow as tf\n",
    "import numpy as np\n",
    "import matplotlib.pyplot as plt\n",
    "from tensorflow.keras.preprocessing.text import Tokenizer\n",
    "from tensorflow.keras.preprocessing.sequence import pad_sequences\n",
    "from tensorflow.keras.layers import Embedding, LSTM, Dense, Input, concatenate\n",
    "from tensorflow.keras.models import Model\n",
    "from sklearn.model_selection import train_test_split\n",
    "from sklearn.preprocessing import StandardScaler\n",
    "from sklearn.preprocessing import LabelEncoder\n",
    "from sklearn.metrics import mean_absolute_error"
   ]
  },
  {
   "cell_type": "code",
   "execution_count": 165,
   "metadata": {},
   "outputs": [],
   "source": [
    "# Load the dataset into a DataFrame\n",
    "dataset = pd.read_csv('Data_Harga1.csv', delimiter=';')"
   ]
  },
  {
   "cell_type": "code",
   "execution_count": 166,
   "metadata": {},
   "outputs": [],
   "source": [
    "# Select the relevant columns for features and target variable\n",
    "features = ['pasar', 'category', 'commodity', 'unit']\n",
    "target = 'price'"
   ]
  },
  {
   "cell_type": "code",
   "execution_count": 167,
   "metadata": {},
   "outputs": [],
   "source": [
    "# Extract the features and target variable\n",
    "X = dataset[features]\n",
    "y = dataset[target]"
   ]
  },
  {
   "cell_type": "code",
   "execution_count": 168,
   "metadata": {},
   "outputs": [
    {
     "name": "stderr",
     "output_type": "stream",
     "text": [
      "C:\\Users\\Wilbert\\AppData\\Local\\Temp\\ipykernel_12476\\598827087.py:4: SettingWithCopyWarning: \n",
      "A value is trying to be set on a copy of a slice from a DataFrame.\n",
      "Try using .loc[row_indexer,col_indexer] = value instead\n",
      "\n",
      "See the caveats in the documentation: https://pandas.pydata.org/pandas-docs/stable/user_guide/indexing.html#returning-a-view-versus-a-copy\n",
      "  X[feature] = label_encoder.fit_transform(X[feature])\n",
      "C:\\Users\\Wilbert\\AppData\\Local\\Temp\\ipykernel_12476\\598827087.py:4: SettingWithCopyWarning: \n",
      "A value is trying to be set on a copy of a slice from a DataFrame.\n",
      "Try using .loc[row_indexer,col_indexer] = value instead\n",
      "\n",
      "See the caveats in the documentation: https://pandas.pydata.org/pandas-docs/stable/user_guide/indexing.html#returning-a-view-versus-a-copy\n",
      "  X[feature] = label_encoder.fit_transform(X[feature])\n",
      "C:\\Users\\Wilbert\\AppData\\Local\\Temp\\ipykernel_12476\\598827087.py:4: SettingWithCopyWarning: \n",
      "A value is trying to be set on a copy of a slice from a DataFrame.\n",
      "Try using .loc[row_indexer,col_indexer] = value instead\n",
      "\n",
      "See the caveats in the documentation: https://pandas.pydata.org/pandas-docs/stable/user_guide/indexing.html#returning-a-view-versus-a-copy\n",
      "  X[feature] = label_encoder.fit_transform(X[feature])\n",
      "C:\\Users\\Wilbert\\AppData\\Local\\Temp\\ipykernel_12476\\598827087.py:4: SettingWithCopyWarning: \n",
      "A value is trying to be set on a copy of a slice from a DataFrame.\n",
      "Try using .loc[row_indexer,col_indexer] = value instead\n",
      "\n",
      "See the caveats in the documentation: https://pandas.pydata.org/pandas-docs/stable/user_guide/indexing.html#returning-a-view-versus-a-copy\n",
      "  X[feature] = label_encoder.fit_transform(X[feature])\n"
     ]
    }
   ],
   "source": [
    "# Perform label encoding on the categorical features\n",
    "label_encoder = LabelEncoder()\n",
    "for feature in features:\n",
    "    X[feature] = label_encoder.fit_transform(X[feature])"
   ]
  },
  {
   "cell_type": "code",
   "execution_count": 169,
   "metadata": {},
   "outputs": [],
   "source": [
    "# Convert text data to token sequences\n",
    "tokenizer = Tokenizer()\n",
    "tokenizer.fit_on_texts(X['pasar'].astype(str))  # Convert values to strings\n",
    "X_pasar = tokenizer.texts_to_sequences(X['pasar'].astype(str))\n",
    "X_pasar = pad_sequences(X_pasar)"
   ]
  },
  {
   "cell_type": "code",
   "execution_count": 170,
   "metadata": {},
   "outputs": [],
   "source": [
    "# Convert numeric feature to standardized values\n",
    "scaler = StandardScaler()\n",
    "y_scaled = scaler.fit_transform(y.values.reshape(-1, 1))"
   ]
  },
  {
   "cell_type": "code",
   "execution_count": 171,
   "metadata": {},
   "outputs": [
    {
     "name": "stdout",
     "output_type": "stream",
     "text": [
      "X_train shape: (42849, 4)\n",
      "X_test shape: (10713, 4)\n",
      "y_train shape: (42849,)\n",
      "y_test shape: (10713,)\n"
     ]
    }
   ],
   "source": [
    "# Combine the processed features\n",
    "X_combined = np.concatenate((X_pasar, X[features[1:]].values), axis=1)\n",
    "\n",
    "# Split the data into training and testing sets\n",
    "X_train, X_test, y_train, y_test = train_test_split(X_combined, y, test_size=0.2, random_state=42)\n",
    "\n",
    "# Print the shapes of the data splits\n",
    "print(\"X_train shape:\", X_train.shape)\n",
    "print(\"X_test shape:\", X_test.shape)\n",
    "print(\"y_train shape:\", y_train.shape)\n",
    "print(\"y_test shape:\", y_test.shape)\n"
   ]
  },
  {
   "cell_type": "code",
   "execution_count": 172,
   "metadata": {},
   "outputs": [
    {
     "name": "stdout",
     "output_type": "stream",
     "text": [
      "Epoch 1/50\n",
      "670/670 [==============================] - 2s 2ms/step - loss: 39938.1523\n",
      "Epoch 2/50\n",
      "670/670 [==============================] - 1s 2ms/step - loss: 39539.4492\n",
      "Epoch 3/50\n",
      "670/670 [==============================] - 1s 2ms/step - loss: 38822.9844\n",
      "Epoch 4/50\n",
      "670/670 [==============================] - 1s 2ms/step - loss: 37845.5469\n",
      "Epoch 5/50\n",
      "670/670 [==============================] - 1s 2ms/step - loss: 36643.0117\n",
      "Epoch 6/50\n",
      "670/670 [==============================] - 1s 2ms/step - loss: 35237.2617\n",
      "Epoch 7/50\n",
      "670/670 [==============================] - 1s 2ms/step - loss: 33641.8516\n",
      "Epoch 8/50\n",
      "670/670 [==============================] - 1s 2ms/step - loss: 31875.9512\n",
      "Epoch 9/50\n",
      "670/670 [==============================] - 1s 2ms/step - loss: 30075.0117\n",
      "Epoch 10/50\n",
      "670/670 [==============================] - 1s 2ms/step - loss: 28438.9180\n",
      "Epoch 11/50\n",
      "670/670 [==============================] - 1s 2ms/step - loss: 27042.6992\n",
      "Epoch 12/50\n",
      "670/670 [==============================] - 1s 2ms/step - loss: 25825.2188\n",
      "Epoch 13/50\n",
      "670/670 [==============================] - 1s 2ms/step - loss: 24676.0820\n",
      "Epoch 14/50\n",
      "670/670 [==============================] - 1s 2ms/step - loss: 23629.1562\n",
      "Epoch 15/50\n",
      "670/670 [==============================] - 1s 2ms/step - loss: 22721.7715\n",
      "Epoch 16/50\n",
      "670/670 [==============================] - 1s 2ms/step - loss: 22024.8066\n",
      "Epoch 17/50\n",
      "670/670 [==============================] - 1s 2ms/step - loss: 21529.9941\n",
      "Epoch 18/50\n",
      "670/670 [==============================] - 1s 2ms/step - loss: 21176.0234\n",
      "Epoch 19/50\n",
      "670/670 [==============================] - 1s 2ms/step - loss: 20919.9473\n",
      "Epoch 20/50\n",
      "670/670 [==============================] - 1s 2ms/step - loss: 20731.3809\n",
      "Epoch 21/50\n",
      "670/670 [==============================] - 1s 2ms/step - loss: 20585.6250\n",
      "Epoch 22/50\n",
      "670/670 [==============================] - 1s 2ms/step - loss: 20466.6035\n",
      "Epoch 23/50\n",
      "670/670 [==============================] - 1s 2ms/step - loss: 20363.2090\n",
      "Epoch 24/50\n",
      "670/670 [==============================] - 1s 2ms/step - loss: 20267.4355\n",
      "Epoch 25/50\n",
      "670/670 [==============================] - 1s 2ms/step - loss: 20175.6016\n",
      "Epoch 26/50\n",
      "670/670 [==============================] - 1s 2ms/step - loss: 20086.6719\n",
      "Epoch 27/50\n",
      "670/670 [==============================] - 1s 2ms/step - loss: 20000.4844\n",
      "Epoch 28/50\n",
      "670/670 [==============================] - 1s 2ms/step - loss: 19916.8398\n",
      "Epoch 29/50\n",
      "670/670 [==============================] - 1s 2ms/step - loss: 19835.7578\n",
      "Epoch 30/50\n",
      "670/670 [==============================] - 1s 2ms/step - loss: 19757.6797\n",
      "Epoch 31/50\n",
      "670/670 [==============================] - 1s 2ms/step - loss: 19682.2852\n",
      "Epoch 32/50\n",
      "670/670 [==============================] - 1s 2ms/step - loss: 19609.3945\n",
      "Epoch 33/50\n",
      "670/670 [==============================] - 1s 2ms/step - loss: 19539.0820\n",
      "Epoch 34/50\n",
      "670/670 [==============================] - 1s 2ms/step - loss: 19471.0625\n",
      "Epoch 35/50\n",
      "670/670 [==============================] - 1s 2ms/step - loss: 19405.0801\n",
      "Epoch 36/50\n",
      "670/670 [==============================] - 1s 2ms/step - loss: 19340.7383\n",
      "Epoch 37/50\n",
      "670/670 [==============================] - 1s 2ms/step - loss: 19277.1172\n",
      "Epoch 38/50\n",
      "670/670 [==============================] - 1s 2ms/step - loss: 19214.6953\n",
      "Epoch 39/50\n",
      "670/670 [==============================] - 1s 2ms/step - loss: 19152.7031\n",
      "Epoch 40/50\n",
      "670/670 [==============================] - 1s 2ms/step - loss: 19090.8105\n",
      "Epoch 41/50\n",
      "670/670 [==============================] - 1s 2ms/step - loss: 19028.7695\n",
      "Epoch 42/50\n",
      "670/670 [==============================] - 1s 2ms/step - loss: 18967.0801\n",
      "Epoch 43/50\n",
      "670/670 [==============================] - 1s 2ms/step - loss: 18905.9824\n",
      "Epoch 44/50\n",
      "670/670 [==============================] - 1s 2ms/step - loss: 18845.1504\n",
      "Epoch 45/50\n",
      "670/670 [==============================] - 1s 2ms/step - loss: 18784.3516\n",
      "Epoch 46/50\n",
      "670/670 [==============================] - 1s 2ms/step - loss: 18723.8457\n",
      "Epoch 47/50\n",
      "670/670 [==============================] - 1s 2ms/step - loss: 18665.4258\n",
      "Epoch 48/50\n",
      "670/670 [==============================] - 1s 2ms/step - loss: 18608.9629\n",
      "Epoch 49/50\n",
      "670/670 [==============================] - 1s 2ms/step - loss: 18555.5938\n",
      "Epoch 50/50\n",
      "670/670 [==============================] - 1s 2ms/step - loss: 18506.7832\n"
     ]
    }
   ],
   "source": [
    "# Define the model architecture\n",
    "embedding_dim = 200  # Adjust the embedding dimension as needed\n",
    "vocab_size = len(tokenizer.word_index) + 1\n",
    "\n",
    "text_input = Input(shape=(X_combined.shape[1],))\n",
    "embedding_layer = Embedding(vocab_size, embedding_dim)(text_input)\n",
    "\n",
    "numeric_input = Input(shape=(1,))\n",
    "reshaped_numeric_input = tf.reshape(numeric_input, (-1, X_combined.shape[1], 1))\n",
    "\n",
    "concatenated = concatenate([embedding_layer, reshaped_numeric_input])\n",
    "\n",
    "output = Dense(1, activation='linear')(concatenated)\n",
    "\n",
    "model = Model(inputs=[text_input, numeric_input], outputs=output)\n",
    "\n",
    "model.compile(loss='mean_absolute_error', optimizer='adam')\n",
    "history = model.fit([X_train, X_train], y_train, epochs=50, batch_size=64)\n"
   ]
  },
  {
   "cell_type": "code",
   "execution_count": 175,
   "metadata": {},
   "outputs": [
    {
     "data": {
      "image/png": "[encoded data removed]",
      "text/plain": [
       "<Figure size 640x480 with 1 Axes>"
      ]
     },
     "metadata": {},
     "output_type": "display_data"
    }
   ],
   "source": [
    "# Plot Loss Training\n",
    "plt.plot(history.history['loss'])\n",
    "plt.title('Training Loss')\n",
    "plt.xlabel('Epochs')\n",
    "plt.ylabel('Loss')\n",
    "plt.show()\n"
   ]
  },
  {
   "cell_type": "code",
   "execution_count": null,
   "metadata": {},
   "outputs": [],
   "source": []
  }
 ],
 "metadata": {
  "kernelspec": {
   "display_name": "Python 3",
   "language": "python",
   "name": "python3"
  },
  "language_info": {
   "codemirror_mode": {
    "name": "ipython",
    "version": 3
   },
   "file_extension": ".py",
   "mimetype": "text/x-python",
   "name": "python",
   "nbconvert_exporter": "python",
   "pygments_lexer": "ipython3",
   "version": "3.9.0"
  },
  "orig_nbformat": 4
 },
 "nbformat": 4,
 "nbformat_minor": 2
}
